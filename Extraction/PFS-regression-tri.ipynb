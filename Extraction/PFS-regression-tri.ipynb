{
 "cells": [
  {
   "cell_type": "code",
   "execution_count": 2,
   "metadata": {},
   "outputs": [],
   "source": [
    "import pandas as pd\n",
    "import numpy as np"
   ]
  },
  {
   "cell_type": "code",
   "execution_count": 3,
   "metadata": {},
   "outputs": [],
   "source": [
    "triple = pd.read_csv(\"Medication One Row Extraction/Three Combination One Row.csv\")\n",
    "single = pd.read_csv(\"Medication Extraction/Triple Combination.csv\")"
   ]
  },
  {
   "cell_type": "code",
   "execution_count": 4,
   "metadata": {},
   "outputs": [
    {
     "data": {
      "text/plain": [
       "array(['Bortezomib, Cyclophosphamide, Liposomal doxorubicin',\n",
       "       'Bortezomib, Lenalidomide, Liposomal doxorubicin',\n",
       "       'Bortezomib, Cyclophosphamide, Lenalidomide',\n",
       "       'Adriamycin, Cyclophosphamide, Vincristine',\n",
       "       'Melphalan, Prednisone, Thalidomide',\n",
       "       'Cyclophosphamide, Prednisone, Thalidomide',\n",
       "       'Adriamycin, Prednisone, Vincristine',\n",
       "       'Bortezomib, Melphalan, Prednisone',\n",
       "       'Cisplatin, Cyclophosphamide, Etoposide',\n",
       "       'Bortezomib, Cyclophosphamide, Doxorubicin',\n",
       "       'Bendamustine, Bortezomib, Cyclophosphamide'], dtype=object)"
      ]
     },
     "execution_count": 4,
     "metadata": {},
     "output_type": "execute_result"
    }
   ],
   "source": [
    "line1 = triple[triple[\"Line\"] == 1]\n",
    "triples = line1[\"Medication\"].unique()\n",
    "triples"
   ]
  },
  {
   "cell_type": "code",
   "execution_count": 5,
   "metadata": {},
   "outputs": [],
   "source": [
    "def getSingle(med):\n",
    "    tripleT = triple[(triple[\"Line\"] != 1) & (triple[\"Medication\"] == med) & (triple[\"ID\"] == ID)]\n",
    "    if tripleT.shape[0] != 0:\n",
    "        return tripleT.iloc[0][\"PFS\"]\n",
    "    else:\n",
    "        stop = single[(single[\"Line\"] == 1) & (single[\"MedTx\"] == med) & (single[\"ID\"] == ID)][\"DaysFromDxStop\"].values[0]\n",
    "        start = single[(single[\"Line\"] == 1) & (single[\"MedTx\"] == med) & (single[\"ID\"] == ID)][\"DaysFromDxStart\"].values[0]\n",
    "        return stop - start\n",
    "        \n",
    "def getDouble(med, med1, med2):\n",
    "    tripleT = triple[(triple[\"Line\"] != 1) & (triple[\"Medication\"] == med) & (triple[\"ID\"] == ID)]\n",
    "    if tripleT.shape[0] != 0:\n",
    "        return tripleT.iloc[0][\"PFS\"]\n",
    "    else:\n",
    "        medT = single[(single[\"Line\"] == 1) & ((single[\"MedTx\"] == med1) | (single[\"MedTx\"] == med2)) & (single[\"ID\"] == ID)]\n",
    "        stop = medT[\"DaysFromDxStop\"].max()\n",
    "        start = medT[\"DaysFromDxStart\"].min()\n",
    "        return stop - start"
   ]
  },
  {
   "cell_type": "code",
   "execution_count": 6,
   "metadata": {},
   "outputs": [],
   "source": [
    "for ABC in triples:\n",
    "    abc = ABC.split(\", \")\n",
    "    A = abc[0]\n",
    "    B = abc[1]\n",
    "    C = abc[2]\n",
    "    AB = abc[0] + \", \" + abc[1]\n",
    "    BC = abc[1] + \", \" + abc[2]\n",
    "    AC = abc[0] + \", \" + abc[2]\n",
    "    clm = [\"ID\", \"PFS_\" + ABC, \"PFS_\" + A, \"PFS_\" + B, \"PFS_\" + C, \"PFS_\" + AB, \"PFS_\" + BC, \"PFS_\" + AC]\n",
    "    ABCpd = pd.DataFrame(columns = clm)\n",
    "    medABC = line1[line1[\"Medication\"] == ABC]\n",
    "    medABC = medABC[[\"ID\", \"PFS\"]]\n",
    "    IDs = medABC[\"ID\"]\n",
    "    count = 0\n",
    "    for ID in IDs:\n",
    "        #A\n",
    "        PFS_A = getSingle(A)\n",
    "        #B\n",
    "        PFS_B = getSingle(B)\n",
    "        #C\n",
    "        PFS_C = getSingle(C)\n",
    "        #AB\n",
    "        PFS_AB = getDouble(AB, A, B)\n",
    "        #BC\n",
    "        PFS_BC = getDouble(BC, B, C)\n",
    "        #AC\n",
    "        PFS_AC = getDouble(AC, A, C)\n",
    "        PFS_ABC = medABC[medABC[\"ID\"] == ID][\"PFS\"].values[0]\n",
    "        s = pd.DataFrame(columns = clm)\n",
    "        ABCpd.loc[count] = [ID, PFS_ABC, PFS_A, PFS_B, PFS_C, PFS_AB, PFS_BC, PFS_AC]\n",
    "        count = count + 1\n",
    "    ABCpd.to_csv(\"tri-regression/\" + ABC + \".csv\")"
   ]
  },
  {
   "cell_type": "code",
   "execution_count": null,
   "metadata": {},
   "outputs": [],
   "source": []
  }
 ],
 "metadata": {
  "kernelspec": {
   "display_name": "Python 3",
   "language": "python",
   "name": "python3"
  },
  "language_info": {
   "codemirror_mode": {
    "name": "ipython",
    "version": 3
   },
   "file_extension": ".py",
   "mimetype": "text/x-python",
   "name": "python",
   "nbconvert_exporter": "python",
   "pygments_lexer": "ipython3",
   "version": "3.7.3"
  }
 },
 "nbformat": 4,
 "nbformat_minor": 2
}
