{
 "cells": [
  {
   "cell_type": "code",
   "execution_count": 1,
   "metadata": {},
   "outputs": [],
   "source": [
    "import pandas as pd\n",
    "import numpy as np"
   ]
  },
  {
   "cell_type": "code",
   "execution_count": 2,
   "metadata": {},
   "outputs": [],
   "source": [
    "double = pd.read_csv(\"Medication One Row Extraction/Two Combination One Row.csv\")\n",
    "single = pd.read_csv(\"Medication Extraction/Double Combination.csv\")"
   ]
  },
  {
   "cell_type": "code",
   "execution_count": 3,
   "metadata": {},
   "outputs": [
    {
     "data": {
      "text/html": [
       "<div>\n",
       "<style scoped>\n",
       "    .dataframe tbody tr th:only-of-type {\n",
       "        vertical-align: middle;\n",
       "    }\n",
       "\n",
       "    .dataframe tbody tr th {\n",
       "        vertical-align: top;\n",
       "    }\n",
       "\n",
       "    .dataframe thead th {\n",
       "        text-align: right;\n",
       "    }\n",
       "</style>\n",
       "<table border=\"1\" class=\"dataframe\">\n",
       "  <thead>\n",
       "    <tr style=\"text-align: right;\">\n",
       "      <th></th>\n",
       "      <th>Unnamed: 0</th>\n",
       "      <th>ID</th>\n",
       "      <th>Line</th>\n",
       "      <th>Medication</th>\n",
       "      <th>PFS</th>\n",
       "      <th>Duration</th>\n",
       "    </tr>\n",
       "  </thead>\n",
       "  <tbody>\n",
       "    <tr>\n",
       "      <th>0</th>\n",
       "      <td>1</td>\n",
       "      <td>MM1</td>\n",
       "      <td>1</td>\n",
       "      <td>Bortezomib, Lenalidomide</td>\n",
       "      <td>311</td>\n",
       "      <td>254</td>\n",
       "    </tr>\n",
       "    <tr>\n",
       "      <th>1</th>\n",
       "      <td>2</td>\n",
       "      <td>MM1</td>\n",
       "      <td>2</td>\n",
       "      <td>Stem cell transplant</td>\n",
       "      <td>1</td>\n",
       "      <td>1</td>\n",
       "    </tr>\n",
       "    <tr>\n",
       "      <th>2</th>\n",
       "      <td>3</td>\n",
       "      <td>MM10</td>\n",
       "      <td>1</td>\n",
       "      <td>Bortezomib, Lenalidomide</td>\n",
       "      <td>91</td>\n",
       "      <td>91</td>\n",
       "    </tr>\n",
       "    <tr>\n",
       "      <th>3</th>\n",
       "      <td>4</td>\n",
       "      <td>MM10</td>\n",
       "      <td>2</td>\n",
       "      <td>Lenalidomide</td>\n",
       "      <td>62</td>\n",
       "      <td>1</td>\n",
       "    </tr>\n",
       "    <tr>\n",
       "      <th>4</th>\n",
       "      <td>5</td>\n",
       "      <td>MM10</td>\n",
       "      <td>3</td>\n",
       "      <td>Lenalidomide</td>\n",
       "      <td>112</td>\n",
       "      <td>76</td>\n",
       "    </tr>\n",
       "  </tbody>\n",
       "</table>\n",
       "</div>"
      ],
      "text/plain": [
       "   Unnamed: 0    ID  Line                Medication  PFS  Duration\n",
       "0           1   MM1     1  Bortezomib, Lenalidomide  311       254\n",
       "1           2   MM1     2      Stem cell transplant    1         1\n",
       "2           3  MM10     1  Bortezomib, Lenalidomide   91        91\n",
       "3           4  MM10     2              Lenalidomide   62         1\n",
       "4           5  MM10     3              Lenalidomide  112        76"
      ]
     },
     "execution_count": 3,
     "metadata": {},
     "output_type": "execute_result"
    }
   ],
   "source": [
    "double.head()"
   ]
  },
  {
   "cell_type": "code",
   "execution_count": 4,
   "metadata": {},
   "outputs": [
    {
     "data": {
      "text/html": [
       "<div>\n",
       "<style scoped>\n",
       "    .dataframe tbody tr th:only-of-type {\n",
       "        vertical-align: middle;\n",
       "    }\n",
       "\n",
       "    .dataframe tbody tr th {\n",
       "        vertical-align: top;\n",
       "    }\n",
       "\n",
       "    .dataframe thead th {\n",
       "        text-align: right;\n",
       "    }\n",
       "</style>\n",
       "<table border=\"1\" class=\"dataframe\">\n",
       "  <thead>\n",
       "    <tr style=\"text-align: right;\">\n",
       "      <th></th>\n",
       "      <th>Unnamed: 0</th>\n",
       "      <th>ID</th>\n",
       "      <th>Line</th>\n",
       "      <th>DaysFromDxStart</th>\n",
       "      <th>DaysFromDxStop</th>\n",
       "      <th>MedTx</th>\n",
       "      <th>Duration</th>\n",
       "      <th>PFS</th>\n",
       "    </tr>\n",
       "  </thead>\n",
       "  <tbody>\n",
       "    <tr>\n",
       "      <th>0</th>\n",
       "      <td>1</td>\n",
       "      <td>MM1</td>\n",
       "      <td>1</td>\n",
       "      <td>4</td>\n",
       "      <td>258</td>\n",
       "      <td>Lenalidomide</td>\n",
       "      <td>254</td>\n",
       "      <td>311</td>\n",
       "    </tr>\n",
       "    <tr>\n",
       "      <th>1</th>\n",
       "      <td>2</td>\n",
       "      <td>MM1</td>\n",
       "      <td>1</td>\n",
       "      <td>4</td>\n",
       "      <td>258</td>\n",
       "      <td>Bortezomib</td>\n",
       "      <td>254</td>\n",
       "      <td>311</td>\n",
       "    </tr>\n",
       "    <tr>\n",
       "      <th>2</th>\n",
       "      <td>3</td>\n",
       "      <td>MM1</td>\n",
       "      <td>2</td>\n",
       "      <td>315</td>\n",
       "      <td>316</td>\n",
       "      <td>Stem cell transplant</td>\n",
       "      <td>1</td>\n",
       "      <td>1</td>\n",
       "    </tr>\n",
       "    <tr>\n",
       "      <th>3</th>\n",
       "      <td>4</td>\n",
       "      <td>MM10</td>\n",
       "      <td>1</td>\n",
       "      <td>21</td>\n",
       "      <td>112</td>\n",
       "      <td>Bortezomib</td>\n",
       "      <td>91</td>\n",
       "      <td>91</td>\n",
       "    </tr>\n",
       "    <tr>\n",
       "      <th>4</th>\n",
       "      <td>5</td>\n",
       "      <td>MM10</td>\n",
       "      <td>1</td>\n",
       "      <td>21</td>\n",
       "      <td>112</td>\n",
       "      <td>Lenalidomide</td>\n",
       "      <td>91</td>\n",
       "      <td>91</td>\n",
       "    </tr>\n",
       "  </tbody>\n",
       "</table>\n",
       "</div>"
      ],
      "text/plain": [
       "   Unnamed: 0    ID  Line  DaysFromDxStart  DaysFromDxStop  \\\n",
       "0           1   MM1     1                4             258   \n",
       "1           2   MM1     1                4             258   \n",
       "2           3   MM1     2              315             316   \n",
       "3           4  MM10     1               21             112   \n",
       "4           5  MM10     1               21             112   \n",
       "\n",
       "                  MedTx  Duration  PFS  \n",
       "0          Lenalidomide       254  311  \n",
       "1            Bortezomib       254  311  \n",
       "2  Stem cell transplant         1    1  \n",
       "3            Bortezomib        91   91  \n",
       "4          Lenalidomide        91   91  "
      ]
     },
     "execution_count": 4,
     "metadata": {},
     "output_type": "execute_result"
    }
   ],
   "source": [
    "single.head()"
   ]
  },
  {
   "cell_type": "code",
   "execution_count": 7,
   "metadata": {},
   "outputs": [
    {
     "data": {
      "text/plain": [
       "array(['Bortezomib, Lenalidomide', 'Bortezomib, Thalidomide',\n",
       "       'Bortezomib, Cyclophosphamide', 'Adriamycin, Vincristine',\n",
       "       'Melphalan, Prednisone', 'Bortezomib, Doxorubicin',\n",
       "       'Doxorubicin, Vincristine', 'Liposomal doxorubicin, Vincristine',\n",
       "       'Cyclophosphamide, Etoposide', 'Bortezomib, Prednisone',\n",
       "       'Carfilzomib, Cyclophosphamide', 'Carfilzomib, Lenalidomide',\n",
       "       'Bortezomib, Liposomal doxorubicin', 'Elotuzumab, Lenalidomide',\n",
       "       'Adriamycin, Bortezomib', 'Carfilzomib, Pomalidomide',\n",
       "       'Cyclophosphamide, Paciltaxel', 'Bortezomib, Rituximab'],\n",
       "      dtype=object)"
      ]
     },
     "execution_count": 7,
     "metadata": {},
     "output_type": "execute_result"
    }
   ],
   "source": [
    "line1 = double[double[\"Line\"] == 1]\n",
    "doubles = line1[\"Medication\"].unique()\n",
    "doubles"
   ]
  },
  {
   "cell_type": "code",
   "execution_count": 18,
   "metadata": {},
   "outputs": [],
   "source": [
    "def getSingle(med):\n",
    "    doubleT = double[(double[\"Line\"] != 1) & (double[\"Medication\"] == med) & (double[\"ID\"] == ID)]\n",
    "    if doubleT.shape[0] != 0:\n",
    "        return doubleT.iloc[0][\"PFS\"]\n",
    "    else:\n",
    "        stop = single[(single[\"Line\"] == 1) & (single[\"MedTx\"] == med) & (single[\"ID\"] == ID)][\"DaysFromDxStop\"].values[0]\n",
    "        start =  single[(single[\"Line\"] == 1) & (single[\"MedTx\"] == med) & (single[\"ID\"] == ID)][\"DaysFromDxStart\"].values[0]\n",
    "        return stop - start"
   ]
  },
  {
   "cell_type": "code",
   "execution_count": 19,
   "metadata": {},
   "outputs": [],
   "source": [
    "for AB in doubles:\n",
    "    AandB = AB.split(\", \")\n",
    "    A = AandB[0]\n",
    "    B = AandB[1]\n",
    "    clm = [\"ID\", \"PFS_\" + AB, \"PFS_\" + A, \"PFS_\" + B]\n",
    "    ABpd = pd.DataFrame(columns = clm)\n",
    "    medAB = line1[line1[\"Medication\"] == AB]\n",
    "    medAB = medAB[[\"ID\", \"PFS\"]]\n",
    "    IDs = medAB[\"ID\"]\n",
    "    count = 0\n",
    "    for ID in IDs:\n",
    "        PFS_A = getSingle(A)\n",
    "        PFS_B = getSingle(B)\n",
    "        PFS_AB = medAB[medAB[\"ID\"] == ID][\"PFS\"].values[0]\n",
    "        ABpd.loc[count] = [ID, PFS_AB, PFS_A, PFS_B]\n",
    "        count = count + 1\n",
    "    ABpd.to_csv(\"duo-regression/\" + AB + \".csv\")"
   ]
  },
  {
   "cell_type": "code",
   "execution_count": null,
   "metadata": {},
   "outputs": [],
   "source": []
  }
 ],
 "metadata": {
  "kernelspec": {
   "display_name": "Python 3",
   "language": "python",
   "name": "python3"
  },
  "language_info": {
   "codemirror_mode": {
    "name": "ipython",
    "version": 3
   },
   "file_extension": ".py",
   "mimetype": "text/x-python",
   "name": "python",
   "nbconvert_exporter": "python",
   "pygments_lexer": "ipython3",
   "version": "3.7.3"
  }
 },
 "nbformat": 4,
 "nbformat_minor": 2
}
