{
 "cells": [
  {
   "cell_type": "code",
   "execution_count": 1,
   "metadata": {},
   "outputs": [],
   "source": [
    "import pandas as pd\n",
    "import glob\n",
    "from sklearn.linear_model import LinearRegression\n",
    "import sklearn.metrics\n",
    "import math\n",
    "import numpy as np"
   ]
  },
  {
   "cell_type": "code",
   "execution_count": 2,
   "metadata": {},
   "outputs": [],
   "source": [
    "files = glob.glob(\"*.csv\")"
   ]
  },
  {
   "cell_type": "code",
   "execution_count": 37,
   "metadata": {},
   "outputs": [],
   "source": [
    "stats = pd.DataFrame(columns = [\"# of data\", \"File name\", \"R2\", \"RMSE\", \"MAPE\"])"
   ]
  },
  {
   "cell_type": "code",
   "execution_count": 38,
   "metadata": {},
   "outputs": [],
   "source": [
    "def mean_absolute_percentage_error(y_true, y_pred): \n",
    "    y_true, y_pred = np.array(y_true), np.array(y_pred)\n",
    "    return np.mean(np.abs((y_true - y_pred) / y_true)) * 100"
   ]
  },
  {
   "cell_type": "code",
   "execution_count": 39,
   "metadata": {},
   "outputs": [],
   "source": [
    "count = 0\n",
    "for file in files:\n",
    "    data = pd.read_csv(file)\n",
    "    xs = data.columns.drop([\"ID\", \"Unnamed: 0\", \"PFS\", \"MedTx\"])\n",
    "    x = data[xs]\n",
    "    y = data[\"PFS\"]\n",
    "    model = LinearRegression().fit(x, y)\n",
    "    y_fit = model.predict(x)\n",
    "    r2 = sklearn.metrics.r2_score(y, y_fit)\n",
    "    rmse = math.sqrt(sklearn.metrics.mean_squared_error(y, y_fit))\n",
    "    mape = mean_absolute_percentage_error(y, y_fit)\n",
    "    stats.loc[count] = [data.shape[0], file, r2, rmse, mape]\n",
    "    count += 1\n",
    "stats.to_csv(\"stats.csv\")"
   ]
  },
  {
   "cell_type": "code",
   "execution_count": null,
   "metadata": {},
   "outputs": [],
   "source": []
  }
 ],
 "metadata": {
  "kernelspec": {
   "display_name": "Python 3",
   "language": "python",
   "name": "python3"
  },
  "language_info": {
   "codemirror_mode": {
    "name": "ipython",
    "version": 3
   },
   "file_extension": ".py",
   "mimetype": "text/x-python",
   "name": "python",
   "nbconvert_exporter": "python",
   "pygments_lexer": "ipython3",
   "version": "3.7.3"
  }
 },
 "nbformat": 4,
 "nbformat_minor": 2
}
